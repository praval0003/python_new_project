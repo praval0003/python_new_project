{
 "cells": [
  {
   "cell_type": "code",
   "execution_count": 15,
   "metadata": {},
   "outputs": [
    {
     "name": "stdout",
     "output_type": "stream",
     "text": [
      "{'name': 'praval', 'father_name': 'mr arvind kumar', 'age': '20', 'lanuage': ['hindi', 'english'], 'gamil': 'pravalpal7@gmail.com', 'hobbie': ['singing', 'listen music', 'gaming']}\n",
      "\n",
      "\n",
      "{'age': '20',\n",
      " 'father_name': 'mr arvind kumar',\n",
      " 'gamil': 'pravalpal7@gmail.com',\n",
      " 'hobbie': ['singing', 'listen music', 'gaming'],\n",
      " 'lanuage': ['hindi', 'english'],\n",
      " 'name': 'praval'}\n"
     ]
    }
   ],
   "source": [
    "resume = {\n",
    "    'name' : 'praval',\n",
    "    'father_name' : 'mr arvind kumar',\n",
    "    'age' : '20',\n",
    "    'lanuage' : ['hindi' , 'english'],\n",
    "    'gamil' : 'pravalpal7@gmail.com',\n",
    "    'hobbie' : ['singing' , 'listen music' , 'gaming']\n",
    "    }\n",
    "print(resume)\n",
    "print(\"\\n\")\n",
    "from pprint import pprint\n",
    "pprint(resume)"
   ]
  },
  {
   "cell_type": "code",
   "execution_count": 16,
   "metadata": {},
   "outputs": [
    {
     "name": "stdout",
     "output_type": "stream",
     "text": [
      "{'percentage': '7.8 cgpa',\n",
      " 'school': 'indira memorial sr. sec. school',\n",
      " 'subject': ['english', 'hindi', 'maths', 'science', 'computer']}\n"
     ]
    }
   ],
   "source": [
    "high_schooling = {\n",
    "    'school' : 'indira memorial sr. sec. school',\n",
    "    'subject' : ['english' , 'hindi' , 'maths' , 'science', 'computer'],\n",
    "    'percentage' : '7.8 cgpa'\n",
    "}\n",
    "from pprint import pprint\n",
    "pprint(high_schooling)"
   ]
  },
  {
   "cell_type": "code",
   "execution_count": 17,
   "metadata": {},
   "outputs": [
    {
     "name": "stdout",
     "output_type": "stream",
     "text": [
      "{'percentage': '65 %',\n",
      " 'school': 'indira memorial sr. sec school',\n",
      " 'subject': ['accouting',\n",
      "             'bussiness study',\n",
      "             'economics',\n",
      "             'physical',\n",
      "             'english']}\n"
     ]
    }
   ],
   "source": [
    "inter_schooling = {\n",
    "    'school' : 'indira memorial sr. sec school',\n",
    "    'subject' : ['accouting' , 'bussiness study' , 'economics' , 'physical' , 'english'],\n",
    "    'percentage' : '65 %'\n",
    "}\n",
    "from pprint import pprint\n",
    "pprint(inter_schooling)"
   ]
  },
  {
   "cell_type": "code",
   "execution_count": 20,
   "metadata": {},
   "outputs": [
    {
     "name": "stdout",
     "output_type": "stream",
     "text": [
      "{'age': '20',\n",
      " 'father_name': 'mr arvind kumar',\n",
      " 'gamil': 'pravalpal7@gmail.com',\n",
      " 'high_schooling': {'percentage': '7.8 cgpa',\n",
      "                    'school': 'indira memorial sr. sec. school',\n",
      "                    'subject': ['english',\n",
      "                                'hindi',\n",
      "                                'maths',\n",
      "                                'science',\n",
      "                                'computer']},\n",
      " 'hobbie': ['singing', 'listen music', 'gaming'],\n",
      " 'inter_schooling': {'percentage': '65 %',\n",
      "                     'school': 'indira memorial sr. sec school',\n",
      "                     'subject': ['accouting',\n",
      "                                 'bussiness study',\n",
      "                                 'economics',\n",
      "                                 'physical',\n",
      "                                 'english']},\n",
      " 'lanuage': ['hindi', 'english'],\n",
      " 'name': 'praval'}\n"
     ]
    }
   ],
   "source": [
    "resume['high_schooling'] = high_schooling\n",
    "resume['inter_schooling'] = inter_schooling\n",
    "from pprint import pprint\n",
    "pprint(resume)"
   ]
  },
  {
   "cell_type": "code",
   "execution_count": 22,
   "metadata": {},
   "outputs": [
    {
     "name": "stdout",
     "output_type": "stream",
     "text": [
      "{'batsman': ['sachin', 'ms dhoni', 'virat kholi', 'raina', 'yuvraj singh'], 'bowler': ['harbhajan', 'zaheer khan', 'amit mishra', 'sunil narian', 'shubman gill'], 'all_rounder': ['ms dhoni', 'raina', 'yuvraj singh', 'sunial narian', 'virat kholi']}\n",
      "\n",
      "\n",
      "{'all_rounder': ['ms dhoni',\n",
      "                 'raina',\n",
      "                 'yuvraj singh',\n",
      "                 'sunial narian',\n",
      "                 'virat kholi'],\n",
      " 'batsman': ['sachin', 'ms dhoni', 'virat kholi', 'raina', 'yuvraj singh'],\n",
      " 'bowler': ['harbhajan',\n",
      "            'zaheer khan',\n",
      "            'amit mishra',\n",
      "            'sunil narian',\n",
      "            'shubman gill']}\n"
     ]
    }
   ],
   "source": [
    "cricket = {\n",
    "    'batsman' : ['sachin' , 'ms dhoni' , 'virat kholi' , 'raina' , 'yuvraj singh'],\n",
    "    'bowler' : ['harbhajan' , 'zaheer khan' , 'amit mishra' , 'sunil narian' , 'shubman gill'],\n",
    "    'all_rounder' : ['ms dhoni' , 'raina' , 'yuvraj singh' , 'sunial narian' , 'virat kholi']\n",
    "}\n",
    "print(cricket)\n",
    "print(\"\\n\")\n",
    "from pprint import pprint\n",
    "pprint(cricket)\n"
   ]
  },
  {
   "cell_type": "code",
   "execution_count": 24,
   "metadata": {},
   "outputs": [
    {
     "name": "stdout",
     "output_type": "stream",
     "text": [
      "{'brand': 'Ford', 'model': 'Eco', 'year': 2018}\n"
     ]
    }
   ],
   "source": [
    "#change value in dictonary\n",
    "car = {\n",
    "  \"brand\": \"Ford\",\n",
    "  \"model\": \"Eco\",\n",
    "  \"year\": 2016\n",
    "}\n",
    "car[\"year\"] = 2018\n",
    "print(car)"
   ]
  },
  {
   "cell_type": "code",
   "execution_count": null,
   "metadata": {},
   "outputs": [],
   "source": []
  }
 ],
 "metadata": {
  "kernelspec": {
   "display_name": "Python 3",
   "language": "python",
   "name": "python3"
  },
  "language_info": {
   "codemirror_mode": {
    "name": "ipython",
    "version": 3
   },
   "file_extension": ".py",
   "mimetype": "text/x-python",
   "name": "python",
   "nbconvert_exporter": "python",
   "pygments_lexer": "ipython3",
   "version": "3.6.5"
  }
 },
 "nbformat": 4,
 "nbformat_minor": 2
}
