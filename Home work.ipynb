{
 "cells": [
  {
   "cell_type": "markdown",
   "metadata": {},
   "source": [
    "# Basic Data Type"
   ]
  },
  {
   "cell_type": "markdown",
   "metadata": {},
   "source": [
    "Data types are just some kind of rules that are used to categorized the data into different different maaner of zones.\n",
    "Data type only denotes type data we can store in a particular container."
   ]
  },
  {
   "cell_type": "markdown",
   "metadata": {},
   "source": [
    "# DATA Structures or DATA Types in python"
   ]
  },
  {
   "cell_type": "markdown",
   "metadata": {},
   "source": [
    "<li>Numbers --> int, float, char</li>\n",
    "<li>Strings --> 'hi am a string'</li>\n",
    "<li>List --> collection of items like [1,2,'hi','hello']</li>\n",
    "<li>Tuple --> same as list but i am constant (1,2,'hi','hello')</li>\n",
    "<li>Dictionary --> I am just awesome { 'name':'python','type':'programming language'}</li>\n",
    "<li>Sets --> you know math you know me ? { 1,2,'hi','bye','bye bye'}</li>"
   ]
  },
  {
   "cell_type": "code",
   "execution_count": null,
   "metadata": {},
   "outputs": [],
   "source": [
    "x = 45\n",
    "print(\"Type of x = \",type(x)) #to print type of variable\n",
    "print(\"Value of x = \",x)"
   ]
  },
  {
   "cell_type": "code",
   "execution_count": null,
   "metadata": {},
   "outputs": [],
   "source": [
    "print(print(\"I also return None you can see it\")) #print function give NONE if we print print"
   ]
  },
  {
   "cell_type": "code",
   "execution_count": null,
   "metadata": {},
   "outputs": [],
   "source": [
    "print(dir(x)) #it show how many function and methods are in variable X"
   ]
  },
  {
   "cell_type": "code",
   "execution_count": null,
   "metadata": {},
   "outputs": [],
   "source": [
    "print(help(x)) #it provide the help of these method and function"
   ]
  },
  {
   "cell_type": "code",
   "execution_count": null,
   "metadata": {},
   "outputs": [],
   "source": [
    "x  = input(\"X : \") #string not int\n",
    "y = input(\"Y : \") #string not int\n",
    "print(\"Addition of x and y : \",x+y)"
   ]
  },
  {
   "cell_type": "code",
   "execution_count": null,
   "metadata": {},
   "outputs": [],
   "source": [
    "x  = input(X : )\n",
    "y = input(Y : )\n",
    "sum = x + y\n",
    "print(\"sum of x and y : \",sum)"
   ]
  },
  {
   "cell_type": "markdown",
   "metadata": {},
   "source": [
    "# Strings in Python"
   ]
  },
  {
   "cell_type": "code",
   "execution_count": null,
   "metadata": {},
   "outputs": [],
   "source": [
    "x = 456 #it is a int\n",
    "y = '456' #it is a string      #we write anything in \"\" then it is a string\n",
    "print(\"Type of x \",type(x))\n",
    "print(\"Type of y \",type(y))"
   ]
  },
  {
   "cell_type": "code",
   "execution_count": null,
   "metadata": {},
   "outputs": [],
   "source": [
    "y[1] #in this we can print Y variable ki value me jo 1 index pe aa raha he\n",
    "     #indexing kebal string ki hi hogi na ki integer"
   ]
  },
  {
   "cell_type": "code",
   "execution_count": null,
   "metadata": {},
   "outputs": [],
   "source": [
    "s = 'hello World'\n",
    "k = \"Hello World\"  #iss se koi matlab nhi pdta ki string 'a' \"a\" \n",
    "print(s)\n",
    "print('Type of s = ',type(s))\n",
    "print('Type of k = ',type(k))\n",
    "print(k)"
   ]
  },
  {
   "cell_type": "code",
   "execution_count": null,
   "metadata": {},
   "outputs": [],
   "source": [
    "s = \"\\ He said,\\\"Python is Awesome\\\"\"\n",
    "print(s)"
   ]
  },
  {
   "cell_type": "markdown",
   "metadata": {},
   "source": [
    "# Dictionary home work"
   ]
  },
  {
   "cell_type": "code",
   "execution_count": 7,
   "metadata": {},
   "outputs": [
    {
     "name": "stdout",
     "output_type": "stream",
     "text": [
      "{'age': '20',\n",
      " 'father_name': 'mr arvind kumar',\n",
      " 'gamil': 'pravalpal7@gmail.com',\n",
      " 'hobbie': ['singing', 'listen music', 'gaming'],\n",
      " 'lanuage': ['hindi', 'english'],\n",
      " 'name': 'praval'}\n"
     ]
    }
   ],
   "source": [
    "resume = {\n",
    "    'name' : 'praval',\n",
    "    'father_name' : 'mr arvind kumar',\n",
    "    'age' : '20',\n",
    "    'lanuage' : ['hindi' , 'english'],\n",
    "    'gamil' : 'pravalpal7@gmail.com',\n",
    "    'hobbie' : ['singing' , 'listen music' , 'gaming']\n",
    "    }\n",
    "from pprint import pprint\n",
    "pprint(resume)"
   ]
  },
  {
   "cell_type": "code",
   "execution_count": null,
   "metadata": {},
   "outputs": [],
   "source": [
    "high_schooling = {\n",
    "    'school' : 'indira memorial sr. sec. school',\n",
    "    'subject' : ['english' , 'hindi' , 'maths' , 'science', 'computer'],\n",
    "    'percentage' : '7.8 cgpa'\n",
    "}"
   ]
  },
  {
   "cell_type": "code",
   "execution_count": null,
   "metadata": {},
   "outputs": [],
   "source": [
    "\n",
    "inter_schooling = {\n",
    "    'school' : 'indira memorial sr. sec school',\n",
    "    'subject' : ['accouting' , 'bussiness study' , 'economics' , 'physical' , 'english'],\n",
    "    'percentage' : '65 %'\n",
    "}"
   ]
  },
  {
   "cell_type": "code",
   "execution_count": null,
   "metadata": {},
   "outputs": [],
   "source": [
    "resume['high_schooling'] = high_schooling"
   ]
  },
  {
   "cell_type": "code",
   "execution_count": null,
   "metadata": {},
   "outputs": [],
   "source": [
    "resume['inter_schooling'] = inter_schooling"
   ]
  },
  {
   "cell_type": "code",
   "execution_count": null,
   "metadata": {},
   "outputs": [],
   "source": [
    "from pprint import pprint\n",
    "pprint(resume)"
   ]
  },
  {
   "cell_type": "code",
   "execution_count": null,
   "metadata": {},
   "outputs": [],
   "source": [
    "print(resume)"
   ]
  },
  {
   "cell_type": "code",
   "execution_count": null,
   "metadata": {},
   "outputs": [],
   "source": [
    "resume['hobbie'][2]"
   ]
  },
  {
   "cell_type": "code",
   "execution_count": null,
   "metadata": {},
   "outputs": [],
   "source": [
    "cricket = {\n",
    "    'batsman' : ['sachin' , 'ms dhoni' , 'virat kholi' , 'raina' , 'yuvraj singh'],\n",
    "    'bowler' : ['harbhajan' , 'zaheer khan' , 'amit mishra' , 'sunil narian' , 'shubman gill'],\n",
    "    'all_rounder' : ['ms dhoni' , 'raina' , 'yuvraj singh' , 'sunial narian' , 'virat kholi']\n",
    "}"
   ]
  },
  {
   "cell_type": "code",
   "execution_count": null,
   "metadata": {},
   "outputs": [],
   "source": [
    "ipl_owned_2018 = {\n",
    "    'mumbai indian' : 'nita ambani',\n",
    "    'chennai super king' : 'n srinivasam',\n",
    "    'delhi daredevils' : 'gm-rao',\n",
    "    'rajasthan royal' : 'manoj badale',\n",
    "    'royal challengers bangalore' : 'diageo',\n",
    "    'kings 11 punjab' : 'preity zinta',\n",
    "    'kolkata knight rider' : 'shah rukh khan',\n",
    "    'sunrisers hyderabad' : 'kalanithi maran'\n",
    "}"
   ]
  },
  {
   "cell_type": "code",
   "execution_count": null,
   "metadata": {},
   "outputs": [],
   "source": [
    "s = {1,1,1,1,1,1,}\n",
    "print(s)"
   ]
  },
  {
   "cell_type": "code",
   "execution_count": null,
   "metadata": {},
   "outputs": [],
   "source": [
    "print(type(s))"
   ]
  },
  {
   "cell_type": "code",
   "execution_count": null,
   "metadata": {},
   "outputs": [],
   "source": [
    "person = {\n",
    "    'name' : [name],\n",
    "    'age' : [age],\n",
    "    'graduation' : [graduation],\n",
    "    'party' : [party],\n",
    "    \n",
    "}"
   ]
  },
  {
   "cell_type": "code",
   "execution_count": null,
   "metadata": {},
   "outputs": [],
   "source": [
    "name = input(\"enter the name\")\n",
    "age = int(input(\"enter age\"))\n",
    "graduation = input(\"are you graduate yes or no :\" )\n",
    "party = input(\"vote for bjp yes or no :\")\n"
   ]
  },
  {
   "cell_type": "code",
   "execution_count": null,
   "metadata": {},
   "outputs": [],
   "source": [
    "name = input(\"enter the name\")"
   ]
  },
  {
   "cell_type": "code",
   "execution_count": null,
   "metadata": {},
   "outputs": [],
   "source": [
    "print(name)"
   ]
  },
  {
   "cell_type": "code",
   "execution_count": null,
   "metadata": {},
   "outputs": [],
   "source": [
    "bank = { \n",
    "    'user' : [],\n",
    "    'balance' : [],\n",
    "    'password' : [],\n",
    "    'account_number' : [],\n",
    "    }\n",
    "acc = 10001"
   ]
  },
  {
   "cell_type": "code",
   "execution_count": null,
   "metadata": {},
   "outputs": [],
   "source": [
    "from getpass import getpass\n",
    "user = input(\"Enter user name : \")\n",
    "password = getpass(\"Enter your password : \")\n",
    "balance = float(input(\"Enter your Balance : \"))\n",
    "acc_no = acc\n",
    "acc = acc + 1\n",
    "bank['user'].append(user)\n",
    "bank['balance'].append(balance)\n",
    "bank['password'].append(password)\n",
    "bank['account_number'].append(acc_no)"
   ]
  },
  {
   "cell_type": "code",
   "execution_count": null,
   "metadata": {},
   "outputs": [],
   "source": [
    "from pprint import pprint\n",
    "pprint(bank)"
   ]
  },
  {
   "cell_type": "code",
   "execution_count": null,
   "metadata": {},
   "outputs": [],
   "source": [
    "acc_no = int(input(\"Enter your account number : \"))\n",
    "index = bank['account_number'].index(acc_no)\n",
    "print(\"Name = \",bank['user'][index])\n",
    "print(\"Balance = \",bank['balance'][index])\n",
    "print(\"Password = \",bank['password'][index])"
   ]
  },
  {
   "cell_type": "code",
   "execution_count": null,
   "metadata": {},
   "outputs": [],
   "source": [
    "book = {\n",
    "    \n",
    "}"
   ]
  },
  {
   "cell_type": "code",
   "execution_count": null,
   "metadata": {},
   "outputs": [],
   "source": [
    "print(book)"
   ]
  },
  {
   "cell_type": "code",
   "execution_count": null,
   "metadata": {},
   "outputs": [],
   "source": [
    "k = 'spam'*3\n",
    "print(k)"
   ]
  },
  {
   "cell_type": "code",
   "execution_count": null,
   "metadata": {},
   "outputs": [],
   "source": [
    "a = 20\n",
    "a + 1\n",
    "print(a)"
   ]
  },
  {
   "cell_type": "code",
   "execution_count": null,
   "metadata": {},
   "outputs": [],
   "source": [
    "a = a+1\n",
    "print(a)"
   ]
  },
  {
   "cell_type": "code",
   "execution_count": null,
   "metadata": {},
   "outputs": [],
   "source": [
    "k='spam'+'spamspam'\n",
    "print(k)"
   ]
  },
  {
   "cell_type": "code",
   "execution_count": null,
   "metadata": {},
   "outputs": [],
   "source": [
    "j='spam'+'12'\n",
    "print(j)"
   ]
  },
  {
   "cell_type": "code",
   "execution_count": null,
   "metadata": {},
   "outputs": [],
   "source": [
    "k=int(input('insert data : '))"
   ]
  },
  {
   "cell_type": "code",
   "execution_count": null,
   "metadata": {},
   "outputs": [],
   "source": [
    "type(k)"
   ]
  },
  {
   "cell_type": "code",
   "execution_count": 4,
   "metadata": {},
   "outputs": [
    {
     "name": "stdout",
     "output_type": "stream",
     "text": [
      "enter something : foo\n",
      "doo\n"
     ]
    }
   ],
   "source": [
    "var = input(\"enter something : \")\n",
    "if var == \"foo\" :\n",
    "    print(\"doo\")\n",
    "elif var == \"doo\" :\n",
    "    print(\"foo\")\n",
    "else :\n",
    "    print(\"foo/doo\")"
   ]
  },
  {
   "cell_type": "code",
   "execution_count": 3,
   "metadata": {},
   "outputs": [
    {
     "name": "stdout",
     "output_type": "stream",
     "text": [
      "Enter somethig : bar\n",
      "foo\n"
     ]
    }
   ],
   "source": [
    "var = input(\"Enter somethig : \")\n",
    "if var == 'foo' :\n",
    "    print(\"bar\")\n",
    "elif var == 'bar' : \n",
    "    print(\"foo\")\n",
    "else : \n",
    "    print(\"foo|bar\")"
   ]
  },
  {
   "cell_type": "code",
   "execution_count": 5,
   "metadata": {},
   "outputs": [
    {
     "name": "stdout",
     "output_type": "stream",
     "text": [
      "enter something : doo\n",
      "foo\n"
     ]
    }
   ],
   "source": [
    "var = input(\"enter something : \")\n",
    "if var == \"foo\" :\n",
    "    print(\"doo\")\n",
    "else : \n",
    "    print(\"foo\")"
   ]
  },
  {
   "cell_type": "code",
   "execution_count": 1,
   "metadata": {},
   "outputs": [
    {
     "name": "stdout",
     "output_type": "stream",
     "text": [
      "Enter a number : 234\n",
      "Given number 234 is not an armstrong number.\n"
     ]
    }
   ],
   "source": [
    "#real way\n",
    "#the hard way (maths way)\n",
    "#armstrong num\n",
    "num = int(input(\"Enter a number : \")) \n",
    "copy = num #making copy of a number\n",
    "power = 0 \n",
    "while num : \n",
    "    num = num // 10 \n",
    "    power = power + 1\n",
    "num = copy #reterving the real number again\n",
    "armstrong = 0\n",
    "while num : \n",
    "    last_digit = num % 10 \n",
    "    armstrong = armstrong + last_digit ** power\n",
    "    num = num // 10 \n",
    "\n",
    "if armstrong == copy : \n",
    "    print(\"Given number {} is an armstrong number.\".format(copy))\n",
    "else : \n",
    "    print(\"Given number {} is not an armstrong number.\".format(copy))"
   ]
  },
  {
   "cell_type": "code",
   "execution_count": 4,
   "metadata": {},
   "outputs": [
    {
     "ename": "SyntaxError",
     "evalue": "invalid syntax (<ipython-input-4-a23b4f5c6d5d>, line 1)",
     "output_type": "error",
     "traceback": [
      "\u001b[1;36m  File \u001b[1;32m\"<ipython-input-4-a23b4f5c6d5d>\"\u001b[1;36m, line \u001b[1;32m1\u001b[0m\n\u001b[1;33m    x = input(\"Enter something : \") :\u001b[0m\n\u001b[1;37m                                    ^\u001b[0m\n\u001b[1;31mSyntaxError\u001b[0m\u001b[1;31m:\u001b[0m invalid syntax\n"
     ]
    }
   ],
   "source": [
    "x = input(\"Enter something : \") : \n",
    "    while x:\n",
    "    print(\"Hey, Hello to python Programing\")\n",
    "\n",
    "else x == 0  : \n",
    "    print(\"Thanks for using our program\")"
   ]
  },
  {
   "cell_type": "code",
   "execution_count": 1,
   "metadata": {},
   "outputs": [
    {
     "name": "stdout",
     "output_type": "stream",
     "text": [
      "(3, 4)\n"
     ]
    }
   ],
   "source": [
    "x = 3,4\n",
    "print(x)"
   ]
  },
  {
   "cell_type": "code",
   "execution_count": null,
   "metadata": {},
   "outputs": [],
   "source": []
  }
 ],
 "metadata": {
  "kernelspec": {
   "display_name": "Python 3",
   "language": "python",
   "name": "python3"
  },
  "language_info": {
   "codemirror_mode": {
    "name": "ipython",
    "version": 3
   },
   "file_extension": ".py",
   "mimetype": "text/x-python",
   "name": "python",
   "nbconvert_exporter": "python",
   "pygments_lexer": "ipython3",
   "version": "3.6.5"
  }
 },
 "nbformat": 4,
 "nbformat_minor": 2
}
